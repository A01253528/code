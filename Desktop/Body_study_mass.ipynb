{
  "nbformat": 4,
  "nbformat_minor": 0,
  "metadata": {
    "colab": {
      "provenance": []
    },
    "kernelspec": {
      "name": "python3",
      "display_name": "Python 3"
    },
    "language_info": {
      "name": "python"
    }
  },
  "cells": [
    {
      "cell_type": "code",
      "execution_count": null,
      "metadata": {
        "id": "QhRxM6NbzdiV"
      },
      "outputs": [],
      "source": [
        "import numpy as np\n",
        "import sympy as smp\n",
        "from sympy.abc import *\n",
        "from scipy.integrate import odeint\n",
        "import matplotlib.pyplot as plt\n",
        "from matplotlib import animation\n",
        "from mpl_toolkits.mplot3d import Axes3D\n",
        "from matplotlib.animation import PillowWriter\n",
        "from sympy import init_printing"
      ]
    },
    {
      "cell_type": "code",
      "source": [
        "#Definimos las variables\n",
        "k12, k13, k14, k23, k24, k34, k45, k56, k67, kt= smp.symbols('k_12 k_13 k_14 k_23 k_24 k_34 k_45 k_56 k_67 kt')\n",
        "m1, m2, m3, m4, m5, m6, m7= smp.symbols('m1 m2 m3 m4 m5 m6 m7')\n",
        "c12, c13, c14, c23, c24, c34, c45, c56, c67 = smp.symbols('c_12 c_13 c_14 c_23 c_24 c_34 c_45 c_56 c_67')\n",
        "x1, x2, x3, x4, x5, x6, x7, = smp.symbols('x_1, x_2, x_3, x_4, x_5, x_6, x_7', cls=smp.Function)\n",
        "w=smp.symbols('w')"
      ],
      "metadata": {
        "id": "2TXwL7DLzhm_"
      },
      "execution_count": null,
      "outputs": []
    },
    {
      "cell_type": "code",
      "source": [
        "x1=x1(t)\n",
        "x2=x2(t)\n",
        "x3=x3(t)\n",
        "x4=x4(t)\n",
        "x5=x5(t)\n",
        "x6=x6(t)\n",
        "x7=x7(t)\n"
      ],
      "metadata": {
        "id": "zISxHSAz0zhX"
      },
      "execution_count": null,
      "outputs": []
    },
    {
      "cell_type": "code",
      "source": [],
      "metadata": {
        "id": "7-TkING71Rd5"
      },
      "execution_count": null,
      "outputs": []
    },
    {
      "cell_type": "code",
      "source": [
        "x1_d=smp.diff(x1,t)\n",
        "x2_d=smp.diff(x2,t)\n",
        "x3_d=smp.diff(x3,t)\n",
        "x4_d=smp.diff(x4,t)\n",
        "x5_d=smp.diff(x5,t)\n",
        "x6_d=smp.diff(x6,t)\n",
        "x7_d=smp.diff(x7,t)"
      ],
      "metadata": {
        "id": "lHcSCfUl0oJL"
      },
      "execution_count": null,
      "outputs": []
    },
    {
      "cell_type": "code",
      "source": [
        "EC=smp.Rational(1,2)*(m1*x1_d**2+m2*x2_d**2+m3*x3_d**2+m4*x4_d**2+m5*x5_d**2+m6*x6_d**2+m7*x7_d**2)\n",
        "EC"
      ],
      "metadata": {
        "colab": {
          "base_uri": "https://localhost:8080/",
          "height": 60
        },
        "id": "QMln9ZXC0-Y0",
        "outputId": "bc42e70a-d011-46d2-8cd8-08303149a7be"
      },
      "execution_count": null,
      "outputs": [
        {
          "output_type": "execute_result",
          "data": {
            "text/plain": [
              "m1*Derivative(x_1(t), t)**2/2 + m2*Derivative(x_2(t), t)**2/2 + m3*Derivative(x_3(t), t)**2/2 + m4*Derivative(x_4(t), t)**2/2 + m5*Derivative(x_5(t), t)**2/2 + m6*Derivative(x_6(t), t)**2/2 + m7*Derivative(x_7(t), t)**2/2"
            ],
            "text/latex": "$\\displaystyle \\frac{m_{1} \\left(\\frac{d}{d t} \\operatorname{x_{1}}{\\left(t \\right)}\\right)^{2}}{2} + \\frac{m_{2} \\left(\\frac{d}{d t} \\operatorname{x_{2}}{\\left(t \\right)}\\right)^{2}}{2} + \\frac{m_{3} \\left(\\frac{d}{d t} \\operatorname{x_{3}}{\\left(t \\right)}\\right)^{2}}{2} + \\frac{m_{4} \\left(\\frac{d}{d t} \\operatorname{x_{4}}{\\left(t \\right)}\\right)^{2}}{2} + \\frac{m_{5} \\left(\\frac{d}{d t} \\operatorname{x_{5}}{\\left(t \\right)}\\right)^{2}}{2} + \\frac{m_{6} \\left(\\frac{d}{d t} \\operatorname{x_{6}}{\\left(t \\right)}\\right)^{2}}{2} + \\frac{m_{7} \\left(\\frac{d}{d t} \\operatorname{x_{7}}{\\left(t \\right)}\\right)^{2}}{2}$"
          },
          "metadata": {},
          "execution_count": 6
        }
      ]
    },
    {
      "cell_type": "code",
      "source": [
        "\n"
      ],
      "metadata": {
        "id": "OkQ_6vSvh7rg"
      },
      "execution_count": null,
      "outputs": []
    },
    {
      "cell_type": "code",
      "source": [
        "EP=smp.Rational(1,2)*(k12*(x1-x2)**2+k13*(x1-x3)**2+k14*(x1-x4)**2+k23*(x2-x3)**2+k24*(x2-x4)**2+k34*(x3-x4)**2+k45*(x4-x5)**2+k56*(x5-x6)**2+k67*(x6-x7)**2+kt*(x7-w)**2)\n",
        "EP\n"
      ],
      "metadata": {
        "colab": {
          "base_uri": "https://localhost:8080/",
          "height": 96
        },
        "id": "08HRvxkT1pAn",
        "outputId": "485e1533-5114-40cb-eb38-c741fbb0e2fc"
      },
      "execution_count": null,
      "outputs": [
        {
          "output_type": "execute_result",
          "data": {
            "text/plain": [
              "k_12*(x_1(t) - x_2(t))**2/2 + k_13*(x_1(t) - x_3(t))**2/2 + k_14*(x_1(t) - x_4(t))**2/2 + k_23*(x_2(t) - x_3(t))**2/2 + k_24*(x_2(t) - x_4(t))**2/2 + k_34*(x_3(t) - x_4(t))**2/2 + k_45*(x_4(t) - x_5(t))**2/2 + k_56*(x_5(t) - x_6(t))**2/2 + k_67*(x_6(t) - x_7(t))**2/2 + kt*(-w + x_7(t))**2/2"
            ],
            "text/latex": "$\\displaystyle \\frac{k_{12} \\left(\\operatorname{x_{1}}{\\left(t \\right)} - \\operatorname{x_{2}}{\\left(t \\right)}\\right)^{2}}{2} + \\frac{k_{13} \\left(\\operatorname{x_{1}}{\\left(t \\right)} - \\operatorname{x_{3}}{\\left(t \\right)}\\right)^{2}}{2} + \\frac{k_{14} \\left(\\operatorname{x_{1}}{\\left(t \\right)} - \\operatorname{x_{4}}{\\left(t \\right)}\\right)^{2}}{2} + \\frac{k_{23} \\left(\\operatorname{x_{2}}{\\left(t \\right)} - \\operatorname{x_{3}}{\\left(t \\right)}\\right)^{2}}{2} + \\frac{k_{24} \\left(\\operatorname{x_{2}}{\\left(t \\right)} - \\operatorname{x_{4}}{\\left(t \\right)}\\right)^{2}}{2} + \\frac{k_{34} \\left(\\operatorname{x_{3}}{\\left(t \\right)} - \\operatorname{x_{4}}{\\left(t \\right)}\\right)^{2}}{2} + \\frac{k_{45} \\left(\\operatorname{x_{4}}{\\left(t \\right)} - \\operatorname{x_{5}}{\\left(t \\right)}\\right)^{2}}{2} + \\frac{k_{56} \\left(\\operatorname{x_{5}}{\\left(t \\right)} - \\operatorname{x_{6}}{\\left(t \\right)}\\right)^{2}}{2} + \\frac{k_{67} \\left(\\operatorname{x_{6}}{\\left(t \\right)} - \\operatorname{x_{7}}{\\left(t \\right)}\\right)^{2}}{2} + \\frac{kt \\left(- w + \\operatorname{x_{7}}{\\left(t \\right)}\\right)^{2}}{2}$"
          },
          "metadata": {},
          "execution_count": 7
        }
      ]
    },
    {
      "cell_type": "code",
      "source": [
        "ED=smp.Rational(1,2)*(c12*(x1_d-x2_d)**2+c13*(x1_d-x3_d)**2+c14*(x1_d-x4_d)**2+c23*(x2_d-x3_d)**2+c24*(x2_d-x4_d)**2+c34*(x3_d-x4_d)**2+c45*(x4_d-x5_d)**2+\n",
        "                      c56*(x5_d-x6_d)**2+c67*(x6_d-x7_d)**2)\n",
        "ED"
      ],
      "metadata": {
        "colab": {
          "base_uri": "https://localhost:8080/",
          "height": 102
        },
        "id": "3Urjoso42JPF",
        "outputId": "4fcb37ad-f6ed-444c-aeba-51246ea293a9"
      },
      "execution_count": null,
      "outputs": [
        {
          "output_type": "execute_result",
          "data": {
            "text/plain": [
              "c_12*(Derivative(x_1(t), t) - Derivative(x_2(t), t))**2/2 + c_13*(Derivative(x_1(t), t) - Derivative(x_3(t), t))**2/2 + c_14*(Derivative(x_1(t), t) - Derivative(x_4(t), t))**2/2 + c_23*(Derivative(x_2(t), t) - Derivative(x_3(t), t))**2/2 + c_24*(Derivative(x_2(t), t) - Derivative(x_4(t), t))**2/2 + c_34*(Derivative(x_3(t), t) - Derivative(x_4(t), t))**2/2 + c_45*(Derivative(x_4(t), t) - Derivative(x_5(t), t))**2/2 + c_56*(Derivative(x_5(t), t) - Derivative(x_6(t), t))**2/2 + c_67*(Derivative(x_6(t), t) - Derivative(x_7(t), t))**2/2"
            ],
            "text/latex": "$\\displaystyle \\frac{c_{12} \\left(\\frac{d}{d t} \\operatorname{x_{1}}{\\left(t \\right)} - \\frac{d}{d t} \\operatorname{x_{2}}{\\left(t \\right)}\\right)^{2}}{2} + \\frac{c_{13} \\left(\\frac{d}{d t} \\operatorname{x_{1}}{\\left(t \\right)} - \\frac{d}{d t} \\operatorname{x_{3}}{\\left(t \\right)}\\right)^{2}}{2} + \\frac{c_{14} \\left(\\frac{d}{d t} \\operatorname{x_{1}}{\\left(t \\right)} - \\frac{d}{d t} \\operatorname{x_{4}}{\\left(t \\right)}\\right)^{2}}{2} + \\frac{c_{23} \\left(\\frac{d}{d t} \\operatorname{x_{2}}{\\left(t \\right)} - \\frac{d}{d t} \\operatorname{x_{3}}{\\left(t \\right)}\\right)^{2}}{2} + \\frac{c_{24} \\left(\\frac{d}{d t} \\operatorname{x_{2}}{\\left(t \\right)} - \\frac{d}{d t} \\operatorname{x_{4}}{\\left(t \\right)}\\right)^{2}}{2} + \\frac{c_{34} \\left(\\frac{d}{d t} \\operatorname{x_{3}}{\\left(t \\right)} - \\frac{d}{d t} \\operatorname{x_{4}}{\\left(t \\right)}\\right)^{2}}{2} + \\frac{c_{45} \\left(\\frac{d}{d t} \\operatorname{x_{4}}{\\left(t \\right)} - \\frac{d}{d t} \\operatorname{x_{5}}{\\left(t \\right)}\\right)^{2}}{2} + \\frac{c_{56} \\left(\\frac{d}{d t} \\operatorname{x_{5}}{\\left(t \\right)} - \\frac{d}{d t} \\operatorname{x_{6}}{\\left(t \\right)}\\right)^{2}}{2} + \\frac{c_{67} \\left(\\frac{d}{d t} \\operatorname{x_{6}}{\\left(t \\right)} - \\frac{d}{d t} \\operatorname{x_{7}}{\\left(t \\right)}\\right)^{2}}{2}$"
          },
          "metadata": {},
          "execution_count": 8
        }
      ]
    },
    {
      "cell_type": "code",
      "source": [
        "L=EC-EP\n",
        "L"
      ],
      "metadata": {
        "colab": {
          "base_uri": "https://localhost:8080/",
          "height": 141
        },
        "id": "DpGqqf_R2lxH",
        "outputId": "fb62b385-377a-4e16-cf17-78d2f832c93e"
      },
      "execution_count": null,
      "outputs": [
        {
          "output_type": "execute_result",
          "data": {
            "text/plain": [
              "-k_12*(x_1(t) - x_2(t))**2/2 - k_13*(x_1(t) - x_3(t))**2/2 - k_14*(x_1(t) - x_4(t))**2/2 - k_23*(x_2(t) - x_3(t))**2/2 - k_24*(x_2(t) - x_4(t))**2/2 - k_34*(x_3(t) - x_4(t))**2/2 - k_45*(x_4(t) - x_5(t))**2/2 - k_56*(x_5(t) - x_6(t))**2/2 - k_67*(x_6(t) - x_7(t))**2/2 - kt*(-w + x_7(t))**2/2 + m1*Derivative(x_1(t), t)**2/2 + m2*Derivative(x_2(t), t)**2/2 + m3*Derivative(x_3(t), t)**2/2 + m4*Derivative(x_4(t), t)**2/2 + m5*Derivative(x_5(t), t)**2/2 + m6*Derivative(x_6(t), t)**2/2 + m7*Derivative(x_7(t), t)**2/2"
            ],
            "text/latex": "$\\displaystyle - \\frac{k_{12} \\left(\\operatorname{x_{1}}{\\left(t \\right)} - \\operatorname{x_{2}}{\\left(t \\right)}\\right)^{2}}{2} - \\frac{k_{13} \\left(\\operatorname{x_{1}}{\\left(t \\right)} - \\operatorname{x_{3}}{\\left(t \\right)}\\right)^{2}}{2} - \\frac{k_{14} \\left(\\operatorname{x_{1}}{\\left(t \\right)} - \\operatorname{x_{4}}{\\left(t \\right)}\\right)^{2}}{2} - \\frac{k_{23} \\left(\\operatorname{x_{2}}{\\left(t \\right)} - \\operatorname{x_{3}}{\\left(t \\right)}\\right)^{2}}{2} - \\frac{k_{24} \\left(\\operatorname{x_{2}}{\\left(t \\right)} - \\operatorname{x_{4}}{\\left(t \\right)}\\right)^{2}}{2} - \\frac{k_{34} \\left(\\operatorname{x_{3}}{\\left(t \\right)} - \\operatorname{x_{4}}{\\left(t \\right)}\\right)^{2}}{2} - \\frac{k_{45} \\left(\\operatorname{x_{4}}{\\left(t \\right)} - \\operatorname{x_{5}}{\\left(t \\right)}\\right)^{2}}{2} - \\frac{k_{56} \\left(\\operatorname{x_{5}}{\\left(t \\right)} - \\operatorname{x_{6}}{\\left(t \\right)}\\right)^{2}}{2} - \\frac{k_{67} \\left(\\operatorname{x_{6}}{\\left(t \\right)} - \\operatorname{x_{7}}{\\left(t \\right)}\\right)^{2}}{2} - \\frac{kt \\left(- w + \\operatorname{x_{7}}{\\left(t \\right)}\\right)^{2}}{2} + \\frac{m_{1} \\left(\\frac{d}{d t} \\operatorname{x_{1}}{\\left(t \\right)}\\right)^{2}}{2} + \\frac{m_{2} \\left(\\frac{d}{d t} \\operatorname{x_{2}}{\\left(t \\right)}\\right)^{2}}{2} + \\frac{m_{3} \\left(\\frac{d}{d t} \\operatorname{x_{3}}{\\left(t \\right)}\\right)^{2}}{2} + \\frac{m_{4} \\left(\\frac{d}{d t} \\operatorname{x_{4}}{\\left(t \\right)}\\right)^{2}}{2} + \\frac{m_{5} \\left(\\frac{d}{d t} \\operatorname{x_{5}}{\\left(t \\right)}\\right)^{2}}{2} + \\frac{m_{6} \\left(\\frac{d}{d t} \\operatorname{x_{6}}{\\left(t \\right)}\\right)^{2}}{2} + \\frac{m_{7} \\left(\\frac{d}{d t} \\operatorname{x_{7}}{\\left(t \\right)}\\right)^{2}}{2}$"
          },
          "metadata": {},
          "execution_count": 9
        }
      ]
    },
    {
      "cell_type": "code",
      "source": [
        "EC1=(smp.diff(smp.diff(L,x1_d),t)-smp.diff(L,x1)+smp.diff(ED,x1_d)).simplify()\n",
        "EC2=(smp.diff(smp.diff(L,x2_d),t)-smp.diff(L,x2)+smp.diff(ED,x2_d)).simplify()\n",
        "EC3=(smp.diff(smp.diff(L,x3_d),t)-smp.diff(L,x3)+smp.diff(ED,x3_d)).simplify()\n",
        "EC4=(smp.diff(smp.diff(L,x4_d),t)-smp.diff(L,x4)+smp.diff(ED,x4_d)).simplify()\n",
        "EC5=(smp.diff(smp.diff(L,x5_d),t)-smp.diff(L,x5)+smp.diff(ED,x5_d)).simplify()\n",
        "EC6=(smp.diff(smp.diff(L,x6_d),t)-smp.diff(L,x6)+smp.diff(ED,x6_d)).simplify()\n",
        "EC7=(smp.diff(smp.diff(L,x7_d),t)-smp.diff(L,x7)+smp.diff(ED,x7_d)).simplify()\n",
        "ECS=smp.Matrix([[EC1],[EC2],[EC3],[EC4],[EC5],[EC6],[EC7]])\n",
        "ECS"
      ],
      "metadata": {
        "colab": {
          "base_uri": "https://localhost:8080/",
          "height": 200
        },
        "id": "g7yk-ywU2trK",
        "outputId": "e8712adc-fe68-4dc6-dd31-f7c2606d274b"
      },
      "execution_count": null,
      "outputs": [
        {
          "output_type": "execute_result",
          "data": {
            "text/plain": [
              "Matrix([\n",
              "[                                                                                 c_12*(Derivative(x_1(t), t) - Derivative(x_2(t), t)) + c_13*(Derivative(x_1(t), t) - Derivative(x_3(t), t)) + c_14*(Derivative(x_1(t), t) - Derivative(x_4(t), t)) + k_12*(x_1(t) - x_2(t)) + k_13*(x_1(t) - x_3(t)) + k_14*(x_1(t) - x_4(t)) + m1*Derivative(x_1(t), (t, 2))],\n",
              "[                                                                                -c_12*(Derivative(x_1(t), t) - Derivative(x_2(t), t)) + c_23*(Derivative(x_2(t), t) - Derivative(x_3(t), t)) + c_24*(Derivative(x_2(t), t) - Derivative(x_4(t), t)) - k_12*(x_1(t) - x_2(t)) + k_23*(x_2(t) - x_3(t)) + k_24*(x_2(t) - x_4(t)) + m2*Derivative(x_2(t), (t, 2))],\n",
              "[                                                                                -c_13*(Derivative(x_1(t), t) - Derivative(x_3(t), t)) - c_23*(Derivative(x_2(t), t) - Derivative(x_3(t), t)) + c_34*(Derivative(x_3(t), t) - Derivative(x_4(t), t)) - k_13*(x_1(t) - x_3(t)) - k_23*(x_2(t) - x_3(t)) + k_34*(x_3(t) - x_4(t)) + m3*Derivative(x_3(t), (t, 2))],\n",
              "[-c_14*(Derivative(x_1(t), t) - Derivative(x_4(t), t)) - c_24*(Derivative(x_2(t), t) - Derivative(x_4(t), t)) - c_34*(Derivative(x_3(t), t) - Derivative(x_4(t), t)) + c_45*(Derivative(x_4(t), t) - Derivative(x_5(t), t)) - k_14*(x_1(t) - x_4(t)) - k_24*(x_2(t) - x_4(t)) - k_34*(x_3(t) - x_4(t)) + k_45*(x_4(t) - x_5(t)) + m4*Derivative(x_4(t), (t, 2))],\n",
              "[                                                                                                                                                                -c_45*(Derivative(x_4(t), t) - Derivative(x_5(t), t)) + c_56*(Derivative(x_5(t), t) - Derivative(x_6(t), t)) - k_45*(x_4(t) - x_5(t)) + k_56*(x_5(t) - x_6(t)) + m5*Derivative(x_5(t), (t, 2))],\n",
              "[                                                                                                                                                                -c_56*(Derivative(x_5(t), t) - Derivative(x_6(t), t)) + c_67*(Derivative(x_6(t), t) - Derivative(x_7(t), t)) - k_56*(x_5(t) - x_6(t)) + k_67*(x_6(t) - x_7(t)) + m6*Derivative(x_6(t), (t, 2))],\n",
              "[                                                                                                                                                                                                                              -c_67*(Derivative(x_6(t), t) - Derivative(x_7(t), t)) - k_67*(x_6(t) - x_7(t)) - kt*(w - x_7(t)) + m7*Derivative(x_7(t), (t, 2))]])"
            ],
            "text/latex": "$\\displaystyle \\left[\\begin{matrix}c_{12} \\left(\\frac{d}{d t} \\operatorname{x_{1}}{\\left(t \\right)} - \\frac{d}{d t} \\operatorname{x_{2}}{\\left(t \\right)}\\right) + c_{13} \\left(\\frac{d}{d t} \\operatorname{x_{1}}{\\left(t \\right)} - \\frac{d}{d t} \\operatorname{x_{3}}{\\left(t \\right)}\\right) + c_{14} \\left(\\frac{d}{d t} \\operatorname{x_{1}}{\\left(t \\right)} - \\frac{d}{d t} \\operatorname{x_{4}}{\\left(t \\right)}\\right) + k_{12} \\left(\\operatorname{x_{1}}{\\left(t \\right)} - \\operatorname{x_{2}}{\\left(t \\right)}\\right) + k_{13} \\left(\\operatorname{x_{1}}{\\left(t \\right)} - \\operatorname{x_{3}}{\\left(t \\right)}\\right) + k_{14} \\left(\\operatorname{x_{1}}{\\left(t \\right)} - \\operatorname{x_{4}}{\\left(t \\right)}\\right) + m_{1} \\frac{d^{2}}{d t^{2}} \\operatorname{x_{1}}{\\left(t \\right)}\\\\- c_{12} \\left(\\frac{d}{d t} \\operatorname{x_{1}}{\\left(t \\right)} - \\frac{d}{d t} \\operatorname{x_{2}}{\\left(t \\right)}\\right) + c_{23} \\left(\\frac{d}{d t} \\operatorname{x_{2}}{\\left(t \\right)} - \\frac{d}{d t} \\operatorname{x_{3}}{\\left(t \\right)}\\right) + c_{24} \\left(\\frac{d}{d t} \\operatorname{x_{2}}{\\left(t \\right)} - \\frac{d}{d t} \\operatorname{x_{4}}{\\left(t \\right)}\\right) - k_{12} \\left(\\operatorname{x_{1}}{\\left(t \\right)} - \\operatorname{x_{2}}{\\left(t \\right)}\\right) + k_{23} \\left(\\operatorname{x_{2}}{\\left(t \\right)} - \\operatorname{x_{3}}{\\left(t \\right)}\\right) + k_{24} \\left(\\operatorname{x_{2}}{\\left(t \\right)} - \\operatorname{x_{4}}{\\left(t \\right)}\\right) + m_{2} \\frac{d^{2}}{d t^{2}} \\operatorname{x_{2}}{\\left(t \\right)}\\\\- c_{13} \\left(\\frac{d}{d t} \\operatorname{x_{1}}{\\left(t \\right)} - \\frac{d}{d t} \\operatorname{x_{3}}{\\left(t \\right)}\\right) - c_{23} \\left(\\frac{d}{d t} \\operatorname{x_{2}}{\\left(t \\right)} - \\frac{d}{d t} \\operatorname{x_{3}}{\\left(t \\right)}\\right) + c_{34} \\left(\\frac{d}{d t} \\operatorname{x_{3}}{\\left(t \\right)} - \\frac{d}{d t} \\operatorname{x_{4}}{\\left(t \\right)}\\right) - k_{13} \\left(\\operatorname{x_{1}}{\\left(t \\right)} - \\operatorname{x_{3}}{\\left(t \\right)}\\right) - k_{23} \\left(\\operatorname{x_{2}}{\\left(t \\right)} - \\operatorname{x_{3}}{\\left(t \\right)}\\right) + k_{34} \\left(\\operatorname{x_{3}}{\\left(t \\right)} - \\operatorname{x_{4}}{\\left(t \\right)}\\right) + m_{3} \\frac{d^{2}}{d t^{2}} \\operatorname{x_{3}}{\\left(t \\right)}\\\\- c_{14} \\left(\\frac{d}{d t} \\operatorname{x_{1}}{\\left(t \\right)} - \\frac{d}{d t} \\operatorname{x_{4}}{\\left(t \\right)}\\right) - c_{24} \\left(\\frac{d}{d t} \\operatorname{x_{2}}{\\left(t \\right)} - \\frac{d}{d t} \\operatorname{x_{4}}{\\left(t \\right)}\\right) - c_{34} \\left(\\frac{d}{d t} \\operatorname{x_{3}}{\\left(t \\right)} - \\frac{d}{d t} \\operatorname{x_{4}}{\\left(t \\right)}\\right) + c_{45} \\left(\\frac{d}{d t} \\operatorname{x_{4}}{\\left(t \\right)} - \\frac{d}{d t} \\operatorname{x_{5}}{\\left(t \\right)}\\right) - k_{14} \\left(\\operatorname{x_{1}}{\\left(t \\right)} - \\operatorname{x_{4}}{\\left(t \\right)}\\right) - k_{24} \\left(\\operatorname{x_{2}}{\\left(t \\right)} - \\operatorname{x_{4}}{\\left(t \\right)}\\right) - k_{34} \\left(\\operatorname{x_{3}}{\\left(t \\right)} - \\operatorname{x_{4}}{\\left(t \\right)}\\right) + k_{45} \\left(\\operatorname{x_{4}}{\\left(t \\right)} - \\operatorname{x_{5}}{\\left(t \\right)}\\right) + m_{4} \\frac{d^{2}}{d t^{2}} \\operatorname{x_{4}}{\\left(t \\right)}\\\\- c_{45} \\left(\\frac{d}{d t} \\operatorname{x_{4}}{\\left(t \\right)} - \\frac{d}{d t} \\operatorname{x_{5}}{\\left(t \\right)}\\right) + c_{56} \\left(\\frac{d}{d t} \\operatorname{x_{5}}{\\left(t \\right)} - \\frac{d}{d t} \\operatorname{x_{6}}{\\left(t \\right)}\\right) - k_{45} \\left(\\operatorname{x_{4}}{\\left(t \\right)} - \\operatorname{x_{5}}{\\left(t \\right)}\\right) + k_{56} \\left(\\operatorname{x_{5}}{\\left(t \\right)} - \\operatorname{x_{6}}{\\left(t \\right)}\\right) + m_{5} \\frac{d^{2}}{d t^{2}} \\operatorname{x_{5}}{\\left(t \\right)}\\\\- c_{56} \\left(\\frac{d}{d t} \\operatorname{x_{5}}{\\left(t \\right)} - \\frac{d}{d t} \\operatorname{x_{6}}{\\left(t \\right)}\\right) + c_{67} \\left(\\frac{d}{d t} \\operatorname{x_{6}}{\\left(t \\right)} - \\frac{d}{d t} \\operatorname{x_{7}}{\\left(t \\right)}\\right) - k_{56} \\left(\\operatorname{x_{5}}{\\left(t \\right)} - \\operatorname{x_{6}}{\\left(t \\right)}\\right) + k_{67} \\left(\\operatorname{x_{6}}{\\left(t \\right)} - \\operatorname{x_{7}}{\\left(t \\right)}\\right) + m_{6} \\frac{d^{2}}{d t^{2}} \\operatorname{x_{6}}{\\left(t \\right)}\\\\- c_{67} \\left(\\frac{d}{d t} \\operatorname{x_{6}}{\\left(t \\right)} - \\frac{d}{d t} \\operatorname{x_{7}}{\\left(t \\right)}\\right) - k_{67} \\left(\\operatorname{x_{6}}{\\left(t \\right)} - \\operatorname{x_{7}}{\\left(t \\right)}\\right) - kt \\left(w - \\operatorname{x_{7}}{\\left(t \\right)}\\right) + m_{7} \\frac{d^{2}}{d t^{2}} \\operatorname{x_{7}}{\\left(t \\right)}\\end{matrix}\\right]$"
          },
          "metadata": {},
          "execution_count": 10
        }
      ]
    },
    {
      "cell_type": "code",
      "source": [
        "print(smp.latex(EC))\n",
        "print(smp.latex(EP))\n",
        "\n"
      ],
      "metadata": {
        "colab": {
          "base_uri": "https://localhost:8080/"
        },
        "id": "u7hjGspGk0Yw",
        "outputId": "c34c8d33-7707-4aaa-f96f-a97db8ee75c0"
      },
      "execution_count": null,
      "outputs": [
        {
          "output_type": "stream",
          "name": "stdout",
          "text": [
            "\\frac{m_{1} \\left(\\frac{d}{d t} \\operatorname{x_{1}}{\\left(t \\right)}\\right)^{2}}{2} + \\frac{m_{2} \\left(\\frac{d}{d t} \\operatorname{x_{2}}{\\left(t \\right)}\\right)^{2}}{2} + \\frac{m_{3} \\left(\\frac{d}{d t} \\operatorname{x_{3}}{\\left(t \\right)}\\right)^{2}}{2} + \\frac{m_{4} \\left(\\frac{d}{d t} \\operatorname{x_{4}}{\\left(t \\right)}\\right)^{2}}{2} + \\frac{m_{5} \\left(\\frac{d}{d t} \\operatorname{x_{5}}{\\left(t \\right)}\\right)^{2}}{2} + \\frac{m_{6} \\left(\\frac{d}{d t} \\operatorname{x_{6}}{\\left(t \\right)}\\right)^{2}}{2} + \\frac{m_{7} \\left(\\frac{d}{d t} \\operatorname{x_{7}}{\\left(t \\right)}\\right)^{2}}{2}\n",
            "\\frac{k_{12} \\left(\\operatorname{x_{1}}{\\left(t \\right)} - \\operatorname{x_{2}}{\\left(t \\right)}\\right)^{2}}{2} + \\frac{k_{13} \\left(\\operatorname{x_{1}}{\\left(t \\right)} - \\operatorname{x_{3}}{\\left(t \\right)}\\right)^{2}}{2} + \\frac{k_{14} \\left(\\operatorname{x_{1}}{\\left(t \\right)} - \\operatorname{x_{4}}{\\left(t \\right)}\\right)^{2}}{2} + \\frac{k_{23} \\left(\\operatorname{x_{2}}{\\left(t \\right)} - \\operatorname{x_{3}}{\\left(t \\right)}\\right)^{2}}{2} + \\frac{k_{24} \\left(\\operatorname{x_{2}}{\\left(t \\right)} - \\operatorname{x_{4}}{\\left(t \\right)}\\right)^{2}}{2} + \\frac{k_{34} \\left(\\operatorname{x_{3}}{\\left(t \\right)} - \\operatorname{x_{4}}{\\left(t \\right)}\\right)^{2}}{2} + \\frac{k_{45} \\left(\\operatorname{x_{4}}{\\left(t \\right)} - \\operatorname{x_{5}}{\\left(t \\right)}\\right)^{2}}{2} + \\frac{k_{56} \\left(\\operatorname{x_{5}}{\\left(t \\right)} - \\operatorname{x_{6}}{\\left(t \\right)}\\right)^{2}}{2} + \\frac{k_{67} \\left(\\operatorname{x_{6}}{\\left(t \\right)} - \\operatorname{x_{7}}{\\left(t \\right)}\\right)^{2}}{2} + \\frac{kt \\left(- w + \\operatorname{x_{7}}{\\left(t \\right)}\\right)^{2}}{2}\n"
          ]
        }
      ]
    },
    {
      "cell_type": "code",
      "source": [
        "print(smp.latex(EC2))\n",
        "print(smp.latex(EC3))\n",
        "print(smp.latex(EC4))\n",
        "print(smp.latex(EC5))\n",
        "print(smp.latex(EC6))\n",
        "print(smp.latex(EC7))\n"
      ],
      "metadata": {
        "colab": {
          "base_uri": "https://localhost:8080/"
        },
        "id": "lvvR4sQbR14Q",
        "outputId": "022a5ee5-62da-4c80-ec70-60ddc86ce287"
      },
      "execution_count": null,
      "outputs": [
        {
          "output_type": "stream",
          "name": "stdout",
          "text": [
            "- c_{12} \\left(\\frac{d}{d t} \\operatorname{x_{1}}{\\left(t \\right)} - \\frac{d}{d t} \\operatorname{x_{2}}{\\left(t \\right)}\\right) + c_{23} \\left(\\frac{d}{d t} \\operatorname{x_{2}}{\\left(t \\right)} - \\frac{d}{d t} \\operatorname{x_{3}}{\\left(t \\right)}\\right) + c_{24} \\left(\\frac{d}{d t} \\operatorname{x_{2}}{\\left(t \\right)} - \\frac{d}{d t} \\operatorname{x_{4}}{\\left(t \\right)}\\right) - k_{12} \\left(\\operatorname{x_{1}}{\\left(t \\right)} - \\operatorname{x_{2}}{\\left(t \\right)}\\right) + k_{23} \\left(\\operatorname{x_{2}}{\\left(t \\right)} - \\operatorname{x_{3}}{\\left(t \\right)}\\right) + k_{24} \\left(\\operatorname{x_{2}}{\\left(t \\right)} - \\operatorname{x_{4}}{\\left(t \\right)}\\right) + m_{2} \\frac{d^{2}}{d t^{2}} \\operatorname{x_{2}}{\\left(t \\right)}\n",
            "- c_{13} \\left(\\frac{d}{d t} \\operatorname{x_{1}}{\\left(t \\right)} - \\frac{d}{d t} \\operatorname{x_{3}}{\\left(t \\right)}\\right) - c_{23} \\left(\\frac{d}{d t} \\operatorname{x_{2}}{\\left(t \\right)} - \\frac{d}{d t} \\operatorname{x_{3}}{\\left(t \\right)}\\right) + c_{34} \\left(\\frac{d}{d t} \\operatorname{x_{3}}{\\left(t \\right)} - \\frac{d}{d t} \\operatorname{x_{4}}{\\left(t \\right)}\\right) - k_{13} \\left(\\operatorname{x_{1}}{\\left(t \\right)} - \\operatorname{x_{3}}{\\left(t \\right)}\\right) - k_{23} \\left(\\operatorname{x_{2}}{\\left(t \\right)} - \\operatorname{x_{3}}{\\left(t \\right)}\\right) + k_{34} \\left(\\operatorname{x_{3}}{\\left(t \\right)} - \\operatorname{x_{4}}{\\left(t \\right)}\\right) + m_{3} \\frac{d^{2}}{d t^{2}} \\operatorname{x_{3}}{\\left(t \\right)}\n",
            "- c_{14} \\left(\\frac{d}{d t} \\operatorname{x_{1}}{\\left(t \\right)} - \\frac{d}{d t} \\operatorname{x_{4}}{\\left(t \\right)}\\right) - c_{24} \\left(\\frac{d}{d t} \\operatorname{x_{2}}{\\left(t \\right)} - \\frac{d}{d t} \\operatorname{x_{4}}{\\left(t \\right)}\\right) - c_{34} \\left(\\frac{d}{d t} \\operatorname{x_{3}}{\\left(t \\right)} - \\frac{d}{d t} \\operatorname{x_{4}}{\\left(t \\right)}\\right) + c_{45} \\left(\\frac{d}{d t} \\operatorname{x_{4}}{\\left(t \\right)} - \\frac{d}{d t} \\operatorname{x_{5}}{\\left(t \\right)}\\right) - k_{14} \\left(\\operatorname{x_{1}}{\\left(t \\right)} - \\operatorname{x_{4}}{\\left(t \\right)}\\right) - k_{24} \\left(\\operatorname{x_{2}}{\\left(t \\right)} - \\operatorname{x_{4}}{\\left(t \\right)}\\right) - k_{34} \\left(\\operatorname{x_{3}}{\\left(t \\right)} - \\operatorname{x_{4}}{\\left(t \\right)}\\right) + k_{45} \\left(\\operatorname{x_{4}}{\\left(t \\right)} - \\operatorname{x_{5}}{\\left(t \\right)}\\right) + m_{4} \\frac{d^{2}}{d t^{2}} \\operatorname{x_{4}}{\\left(t \\right)}\n",
            "- c_{45} \\left(\\frac{d}{d t} \\operatorname{x_{4}}{\\left(t \\right)} - \\frac{d}{d t} \\operatorname{x_{5}}{\\left(t \\right)}\\right) + c_{56} \\left(\\frac{d}{d t} \\operatorname{x_{5}}{\\left(t \\right)} - \\frac{d}{d t} \\operatorname{x_{6}}{\\left(t \\right)}\\right) - k_{45} \\left(\\operatorname{x_{4}}{\\left(t \\right)} - \\operatorname{x_{5}}{\\left(t \\right)}\\right) + k_{56} \\left(\\operatorname{x_{5}}{\\left(t \\right)} - \\operatorname{x_{6}}{\\left(t \\right)}\\right) + m_{5} \\frac{d^{2}}{d t^{2}} \\operatorname{x_{5}}{\\left(t \\right)}\n",
            "- c_{56} \\left(\\frac{d}{d t} \\operatorname{x_{5}}{\\left(t \\right)} - \\frac{d}{d t} \\operatorname{x_{6}}{\\left(t \\right)}\\right) + c_{67} \\left(\\frac{d}{d t} \\operatorname{x_{6}}{\\left(t \\right)} - \\frac{d}{d t} \\operatorname{x_{7}}{\\left(t \\right)}\\right) - k_{56} \\left(\\operatorname{x_{5}}{\\left(t \\right)} - \\operatorname{x_{6}}{\\left(t \\right)}\\right) + k_{67} \\left(\\operatorname{x_{6}}{\\left(t \\right)} - \\operatorname{x_{7}}{\\left(t \\right)}\\right) + m_{6} \\frac{d^{2}}{d t^{2}} \\operatorname{x_{6}}{\\left(t \\right)}\n",
            "- c_{67} \\left(\\frac{d}{d t} \\operatorname{x_{6}}{\\left(t \\right)} - \\frac{d}{d t} \\operatorname{x_{7}}{\\left(t \\right)}\\right) - k_{67} \\left(\\operatorname{x_{6}}{\\left(t \\right)} - \\operatorname{x_{7}}{\\left(t \\right)}\\right) - kt \\left(w - \\operatorname{x_{7}}{\\left(t \\right)}\\right) + m_{7} \\frac{d^{2}}{d t^{2}} \\operatorname{x_{7}}{\\left(t \\right)}\n"
          ]
        }
      ]
    }
  ]
}